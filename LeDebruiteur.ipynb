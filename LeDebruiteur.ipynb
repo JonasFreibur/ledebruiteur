{
 "cells": [
  {
   "cell_type": "markdown",
   "metadata": {},
   "source": [
    "# Le Debruiteur\n",
    "* Jonas Freiburghaus\n",
    "* Romain Capocasale\n",
    "* He-Arc, INF3dlm-a\n",
    "* Image Processing course\n",
    "* 2019-2020"
   ]
  },
  {
   "cell_type": "markdown",
   "metadata": {},
   "source": [
    "# Import"
   ]
  },
  {
   "cell_type": "code",
   "execution_count": 1,
   "metadata": {},
   "outputs": [],
   "source": [
    "%matplotlib inline\n",
    "\n",
    "from debruiteur.generator.datagenerator import DataGenerator\n",
    "from debruiteur.models.autoencoders import build_conv_autoencoder, build_dense_autoencoder\n",
    "from debruiteur.models.gan import GAN\n",
    "from debruiteur.noise.noise import *\n",
    "from debruiteur.plots.plots import plot_model_loss\n",
    "from debruiteur.preprocessing.preprocessor import *\n",
    "from debruiteur.utils.utils import save_model, split_train_val_df\n",
    "\n",
    "import os"
   ]
  },
  {
   "cell_type": "markdown",
   "metadata": {},
   "source": [
    "# Configurations"
   ]
  },
  {
   "cell_type": "code",
   "execution_count": 2,
   "metadata": {},
   "outputs": [],
   "source": [
    "noise_class_list = [\n",
    "    GaussianNoise(mean=0, std=10),\n",
    "    UniformNoise(amplitude=100),\n",
    "]"
   ]
  },
  {
   "cell_type": "markdown",
   "metadata": {},
   "source": [
    "# Create Dataframe"
   ]
  },
  {
   "cell_type": "code",
   "execution_count": 3,
   "metadata": {},
   "outputs": [
    {
     "data": {
      "application/vnd.jupyter.widget-view+json": {
       "model_id": "067194af223e4070ae2652cbc1d953ae",
       "version_major": 2,
       "version_minor": 0
      },
      "text/plain": [
       "HBox(children=(FloatProgress(value=1.0, bar_style='info', max=1.0), HTML(value='')))"
      ]
     },
     "metadata": {},
     "output_type": "display_data"
    },
    {
     "name": "stdout",
     "output_type": "stream",
     "text": [
      "\n"
     ]
    },
    {
     "data": {
      "application/vnd.jupyter.widget-view+json": {
       "model_id": "df01b49905a241939278d054c6bfe84e",
       "version_major": 2,
       "version_minor": 0
      },
      "text/plain": [
       "HBox(children=(FloatProgress(value=1.0, bar_style='info', max=1.0), HTML(value='')))"
      ]
     },
     "metadata": {},
     "output_type": "display_data"
    },
    {
     "name": "stdout",
     "output_type": "stream",
     "text": [
      "\n"
     ]
    }
   ],
   "source": [
    "working_dir = os.path.abspath(os.getcwd())\n",
    "\n",
    "df_original = make_original_dataframe(os.path.join(working_dir, \"images\"))\n",
    "df_resized = make_resized_dataframe(df_original, resized_path=os.path.join(working_dir, \"resized_images\"))\n",
    "df_noised = make_noised_dataframe(df_resized, noise_class_list, os.path.join(working_dir, \"noised_images\"))\n",
    "df_train, df_val = split_train_val_df(df_noised)"
   ]
  },
  {
   "cell_type": "markdown",
   "metadata": {},
   "source": [
    "# Models training\n",
    "\n",
    "## Data generator"
   ]
  },
  {
   "cell_type": "code",
   "execution_count": 4,
   "metadata": {},
   "outputs": [],
   "source": [
    "train_gen = DataGenerator(df_train)\n",
    "val_gen = DataGenerator(df_val)"
   ]
  },
  {
   "cell_type": "markdown",
   "metadata": {},
   "source": [
    "## Convolutional autoencoder"
   ]
  },
  {
   "cell_type": "code",
   "execution_count": 5,
   "metadata": {},
   "outputs": [
    {
     "name": "stdout",
     "output_type": "stream",
     "text": [
      "Model: \"sequential\"\n",
      "_________________________________________________________________\n",
      "Layer (type)                 Output Shape              Param #   \n",
      "=================================================================\n",
      "conv2d (Conv2D)              (None, 100, 100, 64)      640       \n",
      "_________________________________________________________________\n",
      "max_pooling2d (MaxPooling2D) (None, 50, 50, 64)        0         \n",
      "_________________________________________________________________\n",
      "conv2d_1 (Conv2D)            (None, 50, 50, 32)        18464     \n",
      "_________________________________________________________________\n",
      "max_pooling2d_1 (MaxPooling2 (None, 25, 25, 32)        0         \n",
      "_________________________________________________________________\n",
      "conv2d_2 (Conv2D)            (None, 25, 25, 16)        4624      \n",
      "_________________________________________________________________\n",
      "max_pooling2d_2 (MaxPooling2 (None, 13, 13, 16)        0         \n",
      "_________________________________________________________________\n",
      "conv2d_3 (Conv2D)            (None, 13, 13, 16)        2320      \n",
      "_________________________________________________________________\n",
      "up_sampling2d (UpSampling2D) (None, 26, 26, 16)        0         \n",
      "_________________________________________________________________\n",
      "conv2d_4 (Conv2D)            (None, 26, 26, 32)        4640      \n",
      "_________________________________________________________________\n",
      "up_sampling2d_1 (UpSampling2 (None, 52, 52, 32)        0         \n",
      "_________________________________________________________________\n",
      "conv2d_5 (Conv2D)            (None, 50, 50, 64)        18496     \n",
      "_________________________________________________________________\n",
      "up_sampling2d_2 (UpSampling2 (None, 100, 100, 64)      0         \n",
      "_________________________________________________________________\n",
      "conv2d_6 (Conv2D)            (None, 100, 100, 1)       577       \n",
      "=================================================================\n",
      "Total params: 49,761\n",
      "Trainable params: 49,761\n",
      "Non-trainable params: 0\n",
      "_________________________________________________________________\n"
     ]
    }
   ],
   "source": [
    "ae_model = build_conv_autoencoder()\n",
    "ae_model.summary()"
   ]
  },
  {
   "cell_type": "code",
   "execution_count": 6,
   "metadata": {},
   "outputs": [
    {
     "name": "stdout",
     "output_type": "stream",
     "text": [
      "WARNING:tensorflow:From <ipython-input-6-c15479693a71>:1: Model.fit_generator (from tensorflow.python.keras.engine.training) is deprecated and will be removed in a future version.\n",
      "Instructions for updating:\n",
      "Please use Model.fit, which supports generators.\n",
      "WARNING:tensorflow:sample_weight modes were coerced from\n",
      "  ...\n",
      "    to  \n",
      "  ['...']\n",
      "WARNING:tensorflow:sample_weight modes were coerced from\n",
      "  ...\n",
      "    to  \n",
      "  ['...']\n",
      "Train for 56 steps, validate for 15 steps\n",
      "Epoch 1/10\n",
      "56/56 [==============================] - 183s 3s/step - loss: 0.0452 - val_loss: 0.0276\n",
      "Epoch 2/10\n",
      "56/56 [==============================] - 170s 3s/step - loss: 0.0204 - val_loss: 0.0184\n",
      "Epoch 3/10\n",
      "56/56 [==============================] - 162s 3s/step - loss: 0.0157 - val_loss: 0.0158\n",
      "Epoch 4/10\n",
      "56/56 [==============================] - 116s 2s/step - loss: 0.0138 - val_loss: 0.0153\n",
      "Epoch 5/10\n",
      "56/56 [==============================] - 112s 2s/step - loss: 0.0129 - val_loss: 0.0138\n",
      "Epoch 6/10\n",
      "56/56 [==============================] - 120s 2s/step - loss: 0.0122 - val_loss: 0.0134\n",
      "Epoch 7/10\n",
      "56/56 [==============================] - 113s 2s/step - loss: 0.0120 - val_loss: 0.0134\n",
      "Epoch 8/10\n",
      "56/56 [==============================] - 112s 2s/step - loss: 0.0115 - val_loss: 0.0125\n",
      "Epoch 9/10\n",
      "56/56 [==============================] - 105s 2s/step - loss: 0.0118 - val_loss: 0.0123\n",
      "Epoch 10/10\n",
      "56/56 [==============================] - 102s 2s/step - loss: 0.0108 - val_loss: 0.0120\n"
     ]
    },
    {
     "data": {
      "image/png": "[encoded data removed]",
      "text/plain": [
       "<Figure size 432x288 with 1 Axes>"
      ]
     },
     "metadata": {
      "needs_background": "light"
     },
     "output_type": "display_data"
    }
   ],
   "source": [
    "history = ae_model.fit_generator(train_gen, validation_data=val_gen, epochs=10)\n",
    "plot_model_loss(history)"
   ]
  },
  {
   "cell_type": "code",
   "execution_count": 7,
   "metadata": {},
   "outputs": [],
   "source": [
    "save_model(ae_model, os.path.join(working_dir, \"saved_models\"), \"conv_autoencoder.h5\")\n",
    "\n",
    "del ae_model\n",
    "del train_gen\n",
    "del val_gen"
   ]
  },
  {
   "cell_type": "markdown",
   "metadata": {},
   "source": [
    "## Dense autoencoder"
   ]
  },
  {
   "cell_type": "code",
   "execution_count": null,
   "metadata": {},
   "outputs": [],
   "source": [
    "train_gen = DataGenerator(df_train, img_shape=(10000, ))\n",
    "val_gen = DataGenerator(df_val, img_shape=(10000, ))"
   ]
  },
  {
   "cell_type": "code",
   "execution_count": null,
   "metadata": {},
   "outputs": [],
   "source": [
    "ae_model = build_dense_autoencoder(loss=\"mse\")\n",
    "ae_model.summary()"
   ]
  },
  {
   "cell_type": "code",
   "execution_count": null,
   "metadata": {},
   "outputs": [],
   "source": [
    "history = ae_model.fit_generator(train_gen, validation_data=val_gen, epochs=10)\n",
    "plot_model_loss(history)"
   ]
  },
  {
   "cell_type": "code",
   "execution_count": null,
   "metadata": {},
   "outputs": [],
   "source": [
    "save_model(ae_model, os.path.join(working_dir, \"saved_models\"), \"dense_autoencoder.h5\")\n",
    "\n",
    "del ae_model\n",
    "del train_gen\n",
    "del val_gen"
   ]
  },
  {
   "cell_type": "markdown",
   "metadata": {},
   "source": [
    "## GAN autoencoder\n",
    "\n",
    "Was trained only on :\n",
    "* gaussian noise\n",
    "* uniform noise\n",
    "\n",
    "As the model is quite heavy it was trained on google collaboratory. The code is however the same."
   ]
  },
  {
   "cell_type": "code",
   "execution_count": null,
   "metadata": {},
   "outputs": [],
   "source": [
    "train_gen = DataGenerator(df_train, img_shape=(100, 100, 1))\n",
    "val_gen = DataGenerator(df_val, img_shape=(100, 100, 1))"
   ]
  },
  {
   "cell_type": "code",
   "execution_count": null,
   "metadata": {},
   "outputs": [],
   "source": [
    "gan = GAN(img_shape=(100, 100, 1))"
   ]
  },
  {
   "cell_type": "code",
   "execution_count": null,
   "metadata": {},
   "outputs": [],
   "source": [
    "gan.generator.summary()"
   ]
  },
  {
   "cell_type": "code",
   "execution_count": null,
   "metadata": {},
   "outputs": [],
   "source": [
    "gan.discriminator.summary()"
   ]
  },
  {
   "cell_type": "code",
   "execution_count": null,
   "metadata": {},
   "outputs": [],
   "source": [
    "gan.train(train_gen, val_gen, batch_size=20)"
   ]
  },
  {
   "cell_type": "code",
   "execution_count": null,
   "metadata": {},
   "outputs": [],
   "source": [
    "save_model(gan.generator, os.path.join(working_dir, \"saved_models\"), \"gan_generator.h5\")\n",
    "\n",
    "del gan\n",
    "del train_gen\n",
    "del val_gen"
   ]
  }
 ],
 "metadata": {
  "kernelspec": {
   "display_name": "Python 3",
   "language": "python",
   "name": "python3"
  },
  "language_info": {
   "codemirror_mode": {
    "name": "ipython",
    "version": 3
   },
   "file_extension": ".py",
   "mimetype": "text/x-python",
   "name": "python",
   "nbconvert_exporter": "python",
   "pygments_lexer": "ipython3",
   "version": "3.7.4"
  }
 },
 "nbformat": 4,
 "nbformat_minor": 4
}
