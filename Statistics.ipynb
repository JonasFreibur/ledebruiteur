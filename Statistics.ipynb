{
 "cells": [
  {
   "cell_type": "markdown",
   "metadata": {},
   "source": [
    "# Le Debruiteur\n",
    "* Jonas Freiburghaus\n",
    "* Romain Capocasale\n",
    "* He-Arc, INF3dlm-a\n",
    "* Image Processing course\n",
    "* 2019-2020\n",
    "\n",
    "## Statistics"
   ]
  },
  {
   "cell_type": "code",
   "execution_count": null,
   "metadata": {},
   "outputs": [],
   "source": [
    "import os\n",
    "\n",
    "from debruiteur.generator.datagenerator import DataGenerator\n",
    "from debruiteur.preprocessing.preprocessor import make_original_dataframe, make_resized_dataframe, make_noised_dataframe\n",
    "from debruiteur.noise.noise import GaussianNoise, PoissonNoise, UniformNoise, SaltPepperNoise, SquareMaskNoise, SpeckleNoise\n",
    "from debruiteur.utils.utils import load_model, split_train_val_df\n",
    "from debruiteur.noise.filters import gaussian_filter, wiener_filter, laplacian_filter, gaussian_weighted_substract_filter\n",
    "from debruiteur.noise.filters import mean_filter, median_filter, conservative_filter, low_pass_filter, high_pass_filter\n",
    "from debruiteur.statistics.statistics import compute_noise_reduction_method_statistics, compute_noise_type_statistics\n",
    "from debruiteur.metrics.metrics import metrics_example"
   ]
  },
  {
   "cell_type": "code",
   "execution_count": null,
   "metadata": {},
   "outputs": [],
   "source": [
    "import debruiteur\n",
    "dir(debruiteur.noise.filters)"
   ]
  },
  {
   "cell_type": "code",
   "execution_count": null,
   "metadata": {},
   "outputs": [],
   "source": [
    "noise_class_list = [\n",
    "    GaussianNoise(mean=0, std=20),\n",
    "    PoissonNoise(),\n",
    "    UniformNoise(amplitude=100),\n",
    "    SaltPepperNoise(),\n",
    "    SquareMaskNoise(mask_shape=(10, 10), freq=0.1),\n",
    "    SpeckleNoise(),\n",
    "]"
   ]
  },
  {
   "cell_type": "markdown",
   "metadata": {},
   "source": [
    "### Load data"
   ]
  },
  {
   "cell_type": "code",
   "execution_count": null,
   "metadata": {},
   "outputs": [],
   "source": [
    "working_dir = os.path.abspath(os.getcwd())\n",
    "\n",
    "df_original = make_original_dataframe(os.path.join(working_dir, \"images\"))\n",
    "df_resized = make_resized_dataframe(df_original, img_shape=(100, 100), resized_path=os.path.join(working_dir, \"resized_images\"))\n",
    "df_noised = make_noised_dataframe(df_resized, noise_class_list, os.path.join(working_dir, \"noised_images\"))"
   ]
  },
  {
   "cell_type": "markdown",
   "metadata": {},
   "source": [
    "### Metrics\n",
    "\n",
    "Mean squared error (MSE) :\n",
    "$$\\text{MSE} = \\frac{1}{n} \\sum_{i=1}^{n} (y_i - \\hat{y}_i)^2$$\n",
    "\n",
    "Normalized root mean squared error (NRMSE) :\n",
    "$$\\text{NRMSE} = \\sqrt{\\frac{1}{n} \\sum_{i=1}^{n}\\left(\\log{\\frac{\\hat{y} + 1}{y + 1}}\\right)^2}$$\n",
    "\n",
    "Peak signal to noise ration (PSNR) :\n",
    "$$\\text{PSNR} = 10 \\log_{10} \\left( \\frac{{MAX_{I}^2}}{MSE} \\right)$$\n",
    "\n",
    "Structural similarity (SSIM) :\n",
    "$$\\text{SSIM(x, y)} = \\frac{(2\\mu_x \\mu_y + c_1)(2\\sigma_{xy} + c_2)}{(\\mu_x^2 + \\mu_y^2 + c_1)(\\sigma_x^2 + \\sigma_y^2 + c_2)}$$"
   ]
  },
  {
   "cell_type": "markdown",
   "metadata": {},
   "source": [
    "### Show metrics example"
   ]
  },
  {
   "cell_type": "code",
   "execution_count": null,
   "metadata": {},
   "outputs": [],
   "source": [
    "metrics_example(df_noised, noise_class_list)"
   ]
  },
  {
   "cell_type": "markdown",
   "metadata": {},
   "source": [
    "You can see the score for each type of noise for each metric. We can notice that the type of noise that deteriorates the image the most is SpeckleNoise. We can also see that the Gaussian, Poisson noise is one of the filters that deteriorates the image the least. "
   ]
  },
  {
   "cell_type": "markdown",
   "metadata": {},
   "source": [
    "### Create data generator"
   ]
  },
  {
   "cell_type": "code",
   "execution_count": null,
   "metadata": {},
   "outputs": [],
   "source": [
    "stats_gen = DataGenerator(df_noised[0:20], batch_size=20)"
   ]
  },
  {
   "cell_type": "markdown",
   "metadata": {},
   "source": [
    "### Load models"
   ]
  },
  {
   "cell_type": "code",
   "execution_count": null,
   "metadata": {},
   "outputs": [],
   "source": [
    "conv_ae_model = load_model(os.path.join(working_dir, \"saved_models\"), \"conv_autoencoder.h5\")\n",
    "dense_ae_model = load_model(os.path.join(working_dir, \"saved_models\"), \"dense_autoencoder.h5\")\n",
    "gan_model = load_model(os.path.join(working_dir, \"saved_models\"), \"gan_generator.h5\")"
   ]
  },
  {
   "cell_type": "markdown",
   "metadata": {},
   "source": [
    "### Noise reduction methods\n",
    "After the output of the neural networks we apply a filter to smooth the image. Indeed, the images at the output of the neural network are a little blurred. These filters allow to reduce the blur. The filters used are : \n",
    "* Wiener filter\n",
    "* Laplacian filter\n",
    "* Gaussian Weigthed filter"
   ]
  },
  {
   "cell_type": "code",
   "execution_count": null,
   "metadata": {},
   "outputs": [],
   "source": [
    "\n",
    "noise_reduction_methods = [('Gaussian Filter', lambda img: gaussian_filter(img * 255)),\n",
    "                           ('Mean Filter', lambda img: mean_filter(img * 255)),\n",
    "                           ('Median Filter', lambda img: median_filter(img * 255)),\n",
    "                           ('Conservative Filter', lambda img: conservative_filter(img * 255)),\n",
    "                           ('Low pass FFT Filter', lambda img: low_pass_filter(img * 255)),\n",
    "                           \n",
    "                           ('Convolutional Autoencoder None', lambda x : conv_ae_model.predict(x.reshape(1, 100, 100, 1)) * 255),\n",
    "                           ('Convolutional Autoencoder Wiener', lambda x : wiener_filter(conv_ae_model.predict(x.reshape(1, 100, 100, 1)).reshape(100,100) * 255)),\n",
    "                           ('Convolutional Autoencoder Laplacian', lambda x : laplacian_filter(conv_ae_model.predict(x.reshape(1, 100, 100, 1)).reshape(100,100) * 255)),\n",
    "                           ('Convolutional Autoencoder Gaussian Weighted', lambda x : gaussian_weighted_substract_filter(conv_ae_model.predict(x.reshape(1, 100, 100, 1)).reshape(100,100) * 255)),\n",
    "\n",
    "                           ('Dense Autoencoder', lambda x : dense_ae_model.predict(x.reshape(1, 10000)) * 255),\n",
    "\n",
    "                           ('Generative Adversarial Network None', lambda x : gan_model.predict(x.reshape(1, 100, 100, 1)) * 255),\n",
    "                           ('Generative Adversarial Network Wiener', lambda x : wiener_filter(gan_model.predict(x.reshape(1, 100, 100, 1)).reshape(100,100) * 255)),\n",
    "                           ('Generative Adversarial Network Laplacian', lambda x : laplacian_filter(gan_model.predict(x.reshape(1, 100, 100, 1)).reshape(100,100) * 255)),\n",
    "                           ('Generative Adversarial Network Weighted', lambda x : gaussian_weighted_substract_filter(gan_model.predict(x.reshape(1, 100, 100, 1)).reshape(100,100) * 255))]"
   ]
  },
  {
   "cell_type": "markdown",
   "metadata": {},
   "source": [
    "### Noise reduction methods metrics averaged on all kind of noises"
   ]
  },
  {
   "cell_type": "code",
   "execution_count": null,
   "metadata": {},
   "outputs": [],
   "source": [
    "compute_noise_reduction_method_statistics(stats_gen, noise_reduction_methods)"
   ]
  },
  {
   "cell_type": "markdown",
   "metadata": {},
   "source": [
    "### Noise reductions methods for each noise type\n",
    "#### Structural similarity (SSIM)\n",
    "\n",
    "A high SSIM is desired"
   ]
  },
  {
   "cell_type": "code",
   "execution_count": null,
   "metadata": {},
   "outputs": [],
   "source": [
    "df_stat_ssim = compute_noise_type_statistics(stats_gen, noise_reduction_methods, noise_class_list, \"SSIM\")\n",
    "df_stat_ssim"
   ]
  },
  {
   "cell_type": "code",
   "execution_count": null,
   "metadata": {},
   "outputs": [],
   "source": [
    "df_stat_ssim.mean(axis=1).sort_values()"
   ]
  },
  {
   "cell_type": "markdown",
   "metadata": {},
   "source": [
    "#### Peak signal-to-noise ratio (PSNR)\n",
    "\n",
    "A High PSNR is desired but not in all cases. It is often used as a reconstruction loss when compressing images."
   ]
  },
  {
   "cell_type": "code",
   "execution_count": null,
   "metadata": {},
   "outputs": [],
   "source": [
    "df_stat_psnr = compute_noise_type_statistics(stats_gen, noise_reduction_methods, noise_class_list, \"PSNR\")\n",
    "df_stat_psnr"
   ]
  },
  {
   "cell_type": "code",
   "execution_count": null,
   "metadata": {},
   "outputs": [],
   "source": [
    "df_stat_psnr.mean(axis=1).sort_values()"
   ]
  },
  {
   "cell_type": "markdown",
   "metadata": {},
   "source": [
    "#### Mean squared error (MSE)\n",
    "\n",
    "A low MSE is desired."
   ]
  },
  {
   "cell_type": "code",
   "execution_count": null,
   "metadata": {},
   "outputs": [],
   "source": [
    "df_stat_mse = compute_noise_type_statistics(stats_gen, noise_reduction_methods, noise_class_list, \"MSE\")\n",
    "df_stat_mse"
   ]
  },
  {
   "cell_type": "code",
   "execution_count": null,
   "metadata": {},
   "outputs": [],
   "source": [
    "df_stat_mse.mean(axis=1).sort_values()"
   ]
  },
  {
   "cell_type": "markdown",
   "metadata": {},
   "source": [
    "#### Normalized root mean squared error (NRMSE)\n",
    "\n",
    "A low NRMSE is desired."
   ]
  },
  {
   "cell_type": "code",
   "execution_count": null,
   "metadata": {},
   "outputs": [],
   "source": [
    "df_stat_nrmse = compute_noise_type_statistics(stats_gen, noise_reduction_methods, noise_class_list, \"NRMSE\")\n",
    "df_stat_nrmse"
   ]
  },
  {
   "cell_type": "code",
   "execution_count": null,
   "metadata": {},
   "outputs": [],
   "source": [
    "df_stat_nrmse.mean(axis=1).sort_values()"
   ]
  },
  {
   "cell_type": "markdown",
   "metadata": {},
   "source": [
    "# Conclusion\n",
    "\n",
    "As we can observe the conservative filter has the best score on all most all type of noises.  \n",
    "It may be because the changes in the images are very small so it the denoised image is similar to the original image.  \n",
    "This is particularly true when the images are not very noised and the performance would be different if the images had more noise.  \n",
    "\n",
    "The generative adversial neural network reduces the noise quite well, but as the image is generated, the colors are sometimes different which is not the case of other filters.  \n",
    "When we sum all these small differences pixelwise it is expected to have a high error.  \n",
    "Even though the results are visually good.  \n",
    "\n",
    "For each filter the metrics where computed on all kind of noises.  \n",
    "Usually we should use a specific filter on a particular noise as they perform better on the approriate noise.  \n",
    "\n",
    "Comparing the neural networks, the generative adversial neural network has the best performances.  \n",
    "If we had a GPU with more RAM, we could increase the depth of the GAN by putting more convolutional blocks.  \n",
    "This is also the reason why we reduced the image's size to 100x100 and used grayscale.  \n",
    "An other improvement would be to implement the style loss in order to keep better texture details and so improve the performance.  \n",
    "\n",
    "Another point to note is that the structural similarity has been criticized for not being more corelated to the human's perception as the mean squarred error.  \n",
    "Comparing the images visually is sometimes more valuable than comparing metrics.  \n",
    "\n",
    "This conclusion shouldn't be used to say that classical filters (gaussian etc) perform always better than neural networks in all cases.  "
   ]
  }
 ],
 "metadata": {
  "kernelspec": {
   "display_name": "Python 3",
   "language": "python",
   "name": "python3"
  },
  "language_info": {
   "codemirror_mode": {
    "name": "ipython",
    "version": 3
   },
   "file_extension": ".py",
   "mimetype": "text/x-python",
   "name": "python",
   "nbconvert_exporter": "python",
   "pygments_lexer": "ipython3",
   "version": "3.7.4"
  }
 },
 "nbformat": 4,
 "nbformat_minor": 4
}
