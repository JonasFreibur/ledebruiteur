{
 "cells": [
  {
   "cell_type": "code",
   "execution_count": null,
   "metadata": {},
   "outputs": [],
   "source": [
    "import os\n",
    "import numpy as np\n",
    "import cv2\n",
    "import pandas as pd\n",
    "from PIL import Image\n",
    "from matplotlib import pyplot as plt\n",
    "from tqdm import tqdm\n",
    "\n",
    "%matplotlib inline"
   ]
  },
  {
   "cell_type": "code",
   "execution_count": null,
   "metadata": {},
   "outputs": [],
   "source": [
    "np.random.seed(42)\n",
    "BASE_PATH = \"images\"\n",
    "RESIZED_PATH =\"resized_images\""
   ]
  },
  {
   "cell_type": "code",
   "execution_count": null,
   "metadata": {},
   "outputs": [],
   "source": [
    "images_folder = np.random.choice(os.listdir(BASE_PATH), 20)\n",
    "\n",
    "images_path = []\n",
    "images_size = []\n",
    "    \n",
    "for folder in images_folder:\n",
    "    image_folder = os.path.join(BASE_PATH, folder)\n",
    "    \n",
    "    for img_name in os.listdir(image_folder):\n",
    "        img_path = os.path.join(image_folder, img_name).replace(\"\\\\\",\"/\")\n",
    "        images_path.append(img_path)\n",
    "        img = Image.open(img_path)\n",
    "        images_size.append(img.size)\n",
    "        \n",
    "dataframe = pd.DataFrame(pd.Series(images_path).to_frame(\"path\")) \\\n",
    ".join(pd.Series(images_size).to_frame(\"size\"))"
   ]
  },
  {
   "cell_type": "code",
   "execution_count": null,
   "metadata": {},
   "outputs": [],
   "source": [
    "dataframe['size_x'], dataframe['size_y'] = list(dataframe['size'].str)\n",
    "dataframe.drop(['size'], axis=1, inplace=True)"
   ]
  },
  {
   "cell_type": "code",
   "execution_count": null,
   "metadata": {},
   "outputs": [],
   "source": [
    "dataframe = dataframe[(dataframe['size_x'] > 100) & (dataframe['size_y'] > 100)]"
   ]
  },
  {
   "cell_type": "code",
   "execution_count": null,
   "metadata": {},
   "outputs": [],
   "source": [
    "def crop_img(img, shape=(100,100)):\n",
    "    width, height, _ = img.shape\n",
    "    \n",
    "    cx, cy = width / 2, height /2\n",
    "    sx, sy = cx - shape[0] / 2, cy - shape[1] / 2\n",
    "    ex, ey = cx + shape[0] / 2, cy + shape[1] / 2\n",
    "\n",
    "    return img[int(sx) : int(ex), int(sy) : int(ey)]"
   ]
  },
  {
   "cell_type": "code",
   "execution_count": null,
   "metadata": {},
   "outputs": [],
   "source": [
    "image_names = []\n",
    "\n",
    "for index, row in tqdm(dataframe.iterrows()):\n",
    "    path, size_x, size_y = row['path'], row['size_x'], row['size_y']\n",
    "    img = cv2.imread(path)\n",
    "    croped_img = crop_img(img)\n",
    "    \n",
    "    resized_path = os.path.join(RESIZED_PATH, f\"img{index}.jpg\")\n",
    "    \n",
    "    image_names.append(resized_path)\n",
    "    cv2.imwrite(resized_path, croped_img)"
   ]
  },
  {
   "cell_type": "code",
   "execution_count": null,
   "metadata": {},
   "outputs": [],
   "source": [
    "class DataGenerator(Sequence):\n",
    "    \n",
    "    def __init__(self, \n",
    "                 images_paths, \n",
    "                 seq = None,\n",
    "                 batch_size = 32, \n",
    "                 image_dimensions = (100 ,100 ,3), \n",
    "                 shuffle = False):\n",
    "        self.images_paths = images_paths\n",
    "        self.seq = seq\n",
    "        self.dim = image_dimensions\n",
    "        self.batch_size = batch_size\n",
    "        self.shuffle = shuffle\n",
    "        self.on_epoch_end()\n",
    "\n",
    " \n",
    "\n",
    "    def __len__(self):\n",
    "        return int(np.floor(len(self.images_paths) / self.batch_size))\n",
    "\n",
    " \n",
    "\n",
    "    def on_epoch_end(self):\n",
    "        self.indexes = np.arange(len(self.images_paths))\n",
    "        if self.shuffle:\n",
    "            np.random.shuffle(self.indexes)\n",
    "\n",
    " \n",
    "\n",
    "    def __getitem__(self, index):\n",
    "        indexes = self.indexes[index * self.batch_size : (index + 1) * self.batch_size]\n",
    "        \n",
    "        with mp.Pool() as pool:\n",
    "            images = pool.map(cv2.imread, [self.images_paths[k] for k in indexes])\n",
    "\n",
    "        images = np.array(images, np.float32) / 255\n",
    "        \n",
    "        return images"
   ]
  },
  {
   "cell_type": "code",
   "execution_count": null,
   "metadata": {},
   "outputs": [],
   "source": []
  }
 ],
 "metadata": {
  "kernelspec": {
   "display_name": "Python 3",
   "language": "python",
   "name": "python3"
  },
  "language_info": {
   "codemirror_mode": {
    "name": "ipython",
    "version": 3
   },
   "file_extension": ".py",
   "mimetype": "text/x-python",
   "name": "python",
   "nbconvert_exporter": "python",
   "pygments_lexer": "ipython3",
   "version": "3.7.4"
  }
 },
 "nbformat": 4,
 "nbformat_minor": 2
}
