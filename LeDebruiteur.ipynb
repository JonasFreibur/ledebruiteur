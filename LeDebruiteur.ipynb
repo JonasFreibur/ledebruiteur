{
 "cells": [
  {
   "cell_type": "markdown",
   "metadata": {},
   "source": [
    "# Le Debruiteur\n",
    "* Jonas Freiburghaus\n",
    "* Romain Capocasale\n",
    "* He-Arc, INF3dlm-a\n",
    "* Image Processing course\n",
    "* 2019-2020"
   ]
  },
  {
   "cell_type": "markdown",
   "metadata": {},
   "source": [
    "# Import"
   ]
  },
  {
   "cell_type": "code",
   "execution_count": null,
   "metadata": {},
   "outputs": [],
   "source": [
    "%matplotlib inline\n",
    "\n",
    "from debruiteur.generator.datagenerator import DataGenerator\n",
    "from debruiteur.models.models import build_conv_autoencoder\n",
    "from debruiteur.noise.noise import *\n",
    "from debruiteur.plots.plots import plot_model_loss\n",
    "from debruiteur.preprocessing.preprocessor import *\n",
    "from debruiteur.utils.utils import save_model, split_train_val_df\n",
    "\n",
    "import cv2\n",
    "import os\n",
    "from skimage import measure"
   ]
  },
  {
   "cell_type": "markdown",
   "metadata": {},
   "source": [
    "# Configurations"
   ]
  },
  {
   "cell_type": "code",
   "execution_count": null,
   "metadata": {},
   "outputs": [],
   "source": [
    "noise_class_list = [\n",
    "    GaussianNoise(mean=0, std=10),\n",
    "    PoissonNoise(),\n",
    "    UniformNoise(amplitude=100),\n",
    "    SaltPepperNoise(freq=0.3),\n",
    "    SquareMaskNoise(mask_shape=(10, 10), freq=0.1),\n",
    "    SpeckleNoise(),\n",
    "    AveragingBlurNoise(),\n",
    "    GaussianBlurNoise(),\n",
    "    MedianBlurNoise()\n",
    "]"
   ]
  },
  {
   "cell_type": "markdown",
   "metadata": {},
   "source": [
    "# Create Dataframe"
   ]
  },
  {
   "cell_type": "code",
   "execution_count": null,
   "metadata": {},
   "outputs": [],
   "source": [
    "working_dir = os.path.abspath(os.getcwd())\n",
    "\n",
    "df_original = make_original_dataframe(os.path.join(working_dir, \"images\"))\n",
    "df_resized = make_resized_dataframe(df_original, os.path.join(working_dir, \"resized_images\"))\n",
    "df_noised = make_noised_dataframe(df_resized, noise_class_list, os.path.join(working_dir, \"noised_images\"))\n",
    "df_train, df_val = split_train_val_df(df_noised)"
   ]
  },
  {
   "cell_type": "markdown",
   "metadata": {},
   "source": [
    "# Models training\n",
    "\n",
    "## Data generator"
   ]
  },
  {
   "cell_type": "code",
   "execution_count": null,
   "metadata": {},
   "outputs": [],
   "source": [
    "train_gen = DataGenerator(df_train)\n",
    "val_gen = DataGenerator(df_val)"
   ]
  },
  {
   "cell_type": "markdown",
   "metadata": {},
   "source": [
    "## Autoencoder"
   ]
  },
  {
   "cell_type": "code",
   "execution_count": null,
   "metadata": {},
   "outputs": [],
   "source": [
    "ae_model = build_conv_autoencoder()\n",
    "ae_model.summary()"
   ]
  },
  {
   "cell_type": "code",
   "execution_count": null,
   "metadata": {},
   "outputs": [],
   "source": [
    "history = ae_model.fit_generator(train_gen, validation_data=val_gen, epochs=10)\n",
    "plot_model_loss(history)"
   ]
  },
  {
   "cell_type": "code",
   "execution_count": null,
   "metadata": {},
   "outputs": [],
   "source": [
    "save_model(ae_model, os.path.join(working_dir, \"models\"), \"conv_autoencoder.h5\")"
   ]
  },
  {
   "cell_type": "code",
   "execution_count": null,
   "metadata": {},
   "outputs": [],
   "source": []
  }
 ],
 "metadata": {
  "kernelspec": {
   "display_name": "Python 3",
   "language": "python",
   "name": "python3"
  },
  "language_info": {
   "codemirror_mode": {
    "name": "ipython",
    "version": 3
   },
   "file_extension": ".py",
   "mimetype": "text/x-python",
   "name": "python",
   "nbconvert_exporter": "python",
   "pygments_lexer": "ipython3",
   "version": "3.7.4"
  }
 },
 "nbformat": 4,
 "nbformat_minor": 4
}
