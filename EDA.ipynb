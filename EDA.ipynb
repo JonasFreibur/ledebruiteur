{
 "cells": [
  {
   "cell_type": "markdown",
   "metadata": {},
   "source": [
    "# Le Debruiteur\n",
    "* Jonas Freiburghaus\n",
    "* Romain Capocasale\n",
    "* He-Arc, INF3dlm-a\n",
    "* Image Processing course\n",
    "* 2019-2020\n",
    "\n",
    "# Exploratory data analysis"
   ]
  },
  {
   "cell_type": "code",
   "execution_count": null,
   "metadata": {},
   "outputs": [],
   "source": [
    "import tensorflow.keras.backend as k"
   ]
  },
  {
   "cell_type": "code",
   "execution_count": null,
   "metadata": {},
   "outputs": [],
   "source": [
    "%matplotlib inline\n",
    "\n",
    "from debruiteur.generator.datagenerator import DataGenerator\n",
    "from debruiteur.plots.plots import plot_im_grid_from_list, plot_im_grid_from_df, plot_result_comparison\n",
    "from debruiteur.preprocessing.preprocessor import *\n",
    "from debruiteur.noise.noise import *\n",
    "from debruiteur.utils.utils import load_model, split_train_val_df\n",
    "\n",
    "import os\n",
    "import cv2\n",
    "import matplotlib.pyplot as plt\n",
    "import numpy as np\n",
    "from skimage import metrics"
   ]
  },
  {
   "cell_type": "markdown",
   "metadata": {},
   "source": [
    "## Configurations"
   ]
  },
  {
   "cell_type": "code",
   "execution_count": null,
   "metadata": {},
   "outputs": [],
   "source": [
    "noise_class_list = [\n",
    "    GaussianNoise(mean=0, std=10),\n",
    "    PoissonNoise(),\n",
    "    UniformNoise(amplitude=100),\n",
    "    SaltPepperNoise(freq=0.3),\n",
    "    SquareMaskNoise(mask_shape=(10, 10), freq=0.1),\n",
    "    SpeckleNoise(),\n",
    "    AveragingBlurNoise(),\n",
    "    GaussianBlurNoise(),\n",
    "    MedianBlurNoise()\n",
    "]"
   ]
  },
  {
   "cell_type": "markdown",
   "metadata": {},
   "source": [
    "## Load data"
   ]
  },
  {
   "cell_type": "code",
   "execution_count": null,
   "metadata": {},
   "outputs": [],
   "source": [
    "working_dir = os.path.abspath(os.getcwd())\n",
    "\n",
    "df_original = make_original_dataframe(os.path.join(working_dir, \"images\"))\n",
    "df_resized = make_resized_dataframe(df_original, os.path.join(working_dir, \"resized_images\"))\n",
    "df_noised = make_noised_dataframe(df_resized, noise_class_list, os.path.join(working_dir, \"noised_images\"))"
   ]
  },
  {
   "cell_type": "markdown",
   "metadata": {},
   "source": [
    "## Noise\n",
    "\n",
    "plot_im_grid_from_df(df, noise, rows, columns, figsize)\n",
    "\n",
    "Parameters :\n",
    "* df : dataframe, with first column containing image's path\n",
    "* noise : Sublclass of Noise\n",
    "* rows : Number of rows in image grid\n",
    "* columns : Number of columns in image grid\n",
    "* figsize : Tuple, shape of subfigure"
   ]
  },
  {
   "cell_type": "markdown",
   "metadata": {},
   "source": [
    "### None"
   ]
  },
  {
   "cell_type": "code",
   "execution_count": null,
   "metadata": {},
   "outputs": [],
   "source": [
    "plot_im_grid_from_df(df_resized)"
   ]
  },
  {
   "cell_type": "markdown",
   "metadata": {},
   "source": [
    "### Gaussian\n",
    "\n",
    "Parameters :\n",
    "* mean\n",
    "* std"
   ]
  },
  {
   "cell_type": "code",
   "execution_count": null,
   "metadata": {},
   "outputs": [],
   "source": [
    "mu, sigma = 0, 10\n",
    "plot_im_grid_from_df(df_resized, GaussianNoise(mean=mu, std=sigma))"
   ]
  },
  {
   "cell_type": "markdown",
   "metadata": {},
   "source": [
    "### Poisson\n",
    "\n",
    "No parameters"
   ]
  },
  {
   "cell_type": "code",
   "execution_count": null,
   "metadata": {},
   "outputs": [],
   "source": [
    "plot_im_grid_from_df(df_resized, PoissonNoise())"
   ]
  },
  {
   "cell_type": "markdown",
   "metadata": {},
   "source": [
    "### Uniform\n",
    "\n",
    "Parameters :\n",
    "* ampltitude : in ]0; 255["
   ]
  },
  {
   "cell_type": "code",
   "execution_count": null,
   "metadata": {},
   "outputs": [],
   "source": [
    "plot_im_grid_from_df(df_resized, UniformNoise(100))"
   ]
  },
  {
   "cell_type": "markdown",
   "metadata": {},
   "source": [
    "### Salt and pepper noise\n",
    "\n",
    "Parameters :\n",
    "* p : probability in ]0;1["
   ]
  },
  {
   "cell_type": "code",
   "execution_count": null,
   "metadata": {},
   "outputs": [],
   "source": [
    "plot_im_grid_from_df(df_resized, SaltPepperNoise(0.3))"
   ]
  },
  {
   "cell_type": "markdown",
   "metadata": {},
   "source": [
    "### Squared mask\n",
    "\n",
    "Parameters :\n",
    "* mask_shape : tuple, (width, height)\n",
    "* target_freq : frequence in ]0; 1["
   ]
  },
  {
   "cell_type": "code",
   "execution_count": null,
   "metadata": {},
   "outputs": [],
   "source": [
    "plot_im_grid_from_df(df_resized, SquareMaskNoise(mask_shape=(10, 10), freq=0.1))"
   ]
  },
  {
   "cell_type": "markdown",
   "metadata": {},
   "source": [
    "### Speckle\n",
    "\n",
    "No parameters"
   ]
  },
  {
   "cell_type": "code",
   "execution_count": null,
   "metadata": {},
   "outputs": [],
   "source": [
    "plot_im_grid_from_df(df_resized, SpeckleNoise())"
   ]
  },
  {
   "cell_type": "markdown",
   "metadata": {},
   "source": [
    "## Blur"
   ]
  },
  {
   "cell_type": "markdown",
   "metadata": {},
   "source": [
    "### Averaging Blur\n",
    "\n",
    "Parameters :\n",
    "\n",
    "* kernel : tuple, kernel shape"
   ]
  },
  {
   "cell_type": "code",
   "execution_count": null,
   "metadata": {},
   "outputs": [],
   "source": [
    "plot_im_grid_from_df(df_resized, AveragingBlurNoise())"
   ]
  },
  {
   "cell_type": "markdown",
   "metadata": {},
   "source": [
    "### Gaussian Blur\n",
    "\n",
    "Parameters :\n",
    "\n",
    "* kernel : tuple, kernel shape"
   ]
  },
  {
   "cell_type": "code",
   "execution_count": null,
   "metadata": {},
   "outputs": [],
   "source": [
    "plot_im_grid_from_df(df_resized, GaussianBlurNoise())"
   ]
  },
  {
   "cell_type": "markdown",
   "metadata": {},
   "source": [
    "### Median Blur\n",
    "\n",
    "* ksize : int, array's length"
   ]
  },
  {
   "cell_type": "code",
   "execution_count": null,
   "metadata": {},
   "outputs": [],
   "source": [
    "plot_im_grid_from_df(df_resized, MedianBlurNoise())"
   ]
  },
  {
   "cell_type": "markdown",
   "metadata": {},
   "source": [
    "## Metrics\n",
    "\n",
    "Mean squared error (MSE) :\n",
    "$$\\text{MSE} = \\frac{1}{n} \\sum_{i=1}^{n} (y_i - \\hat{y}_i)^2$$\n",
    "\n",
    "Normalized root mean squared error (NRMSE) :\n",
    "$$\\text{NRMSE} = \\sqrt{\\frac{1}{n} \\sum_{i=1}^{n}\\left(\\log{\\frac{\\hat{y} + 1}{y + 1}}\\right)^2}$$\n",
    "\n",
    "Peak signal to noise ration (PSNR) :\n",
    "$$\\text{PSNR} = 10 \\dot \\log_{10} \\left( \\frac{{MAX_{I}^2}}{MSE} \\right)$$\n",
    "\n",
    "Structural similarity (SSIM) :\n",
    "$$\\text{SSIM(x, y)} = \\frac{(2\\mu_x \\mu_y + c_1)(2\\sigma_{xy} + c_2)}{(\\mu_x^2 + \\mu_y^2 + c_1)(\\sigma_x^2 + \\sigma_y^2 + c_2)}$$"
   ]
  },
  {
   "cell_type": "code",
   "execution_count": null,
   "metadata": {},
   "outputs": [],
   "source": [
    "path = df_noised.iloc[0, 0]\n",
    "orignal_img = cv2.imread(path, cv2.IMREAD_GRAYSCALE)\n",
    "\n",
    "images = [orignal_img]\n",
    "\n",
    "df_error = pd.DataFrame({\"Noise\": [], \"MSE\": [], \"NRMSE\": [], \"PSNR\": [], \"SSIM\": []})\n",
    "\n",
    "for noise in noise_class_list:\n",
    "    noised_img = noise.add(orignal_img)\n",
    "    images.append(noised_img)\n",
    "    \n",
    "    noise_name = noise.__class__.__name__\n",
    "    mse = metrics.mean_squared_error(orignal_img, noised_img)\n",
    "    nrmse = metrics.normalized_root_mse(orignal_img, noised_img)\n",
    "    psnr = metrics.peak_signal_noise_ratio(orignal_img, noised_img)\n",
    "    ssim = metrics.structural_similarity(orignal_img, noised_img, multichannel=True)\n",
    "    \n",
    "    df_error = df_error.append({\"Noise\": noise_name, \"MSE\": mse, \"NRMSE\": nrmse, \"PSNR\": psnr, \"SSIM\": ssim}, ignore_index=True)\n",
    "    \n",
    "plot_im_grid_from_list(images, 5, 2)\n",
    "df_error.head(len(noise_class_list))"
   ]
  },
  {
   "cell_type": "markdown",
   "metadata": {},
   "source": [
    "## Models\n",
    "\n",
    "### Convolutional autoencoder"
   ]
  },
  {
   "cell_type": "code",
   "execution_count": null,
   "metadata": {},
   "outputs": [],
   "source": [
    "df_train, df_val = split_train_val_df(df_noised)"
   ]
  },
  {
   "cell_type": "code",
   "execution_count": null,
   "metadata": {},
   "outputs": [],
   "source": [
    "ae_model = load_model(os.path.join(working_dir, \"saved_models\"), \"conv_autoencoder.h5\")"
   ]
  },
  {
   "cell_type": "code",
   "execution_count": null,
   "metadata": {},
   "outputs": [],
   "source": [
    "val_gen = DataGenerator(df_val)\n",
    "plot_result_comparison(ae_model, val_gen)"
   ]
  },
  {
   "cell_type": "code",
   "execution_count": null,
   "metadata": {},
   "outputs": [],
   "source": [
    "train_gen = DataGenerator(df_train)\n",
    "plot_result_comparison(ae_model, train_gen)"
   ]
  },
  {
   "cell_type": "code",
   "execution_count": null,
   "metadata": {},
   "outputs": [],
   "source": [
    "del ae_model\n",
    "del train_gen\n",
    "del val_gen"
   ]
  },
  {
   "cell_type": "markdown",
   "metadata": {},
   "source": [
    "### Dense autoencoder"
   ]
  },
  {
   "cell_type": "code",
   "execution_count": null,
   "metadata": {},
   "outputs": [],
   "source": [
    "ae_model = load_model(os.path.join(working_dir, \"saved_models\"), \"dense_autoencoder.h5\")"
   ]
  },
  {
   "cell_type": "code",
   "execution_count": null,
   "metadata": {},
   "outputs": [],
   "source": [
    "val_gen = DataGenerator(df_val, img_shape=(10000, ))\n",
    "plot_result_comparison(ae_model, val_gen, reshape=(100, 100))"
   ]
  },
  {
   "cell_type": "code",
   "execution_count": null,
   "metadata": {},
   "outputs": [],
   "source": [
    "train_gen = DataGenerator(df_train, img_shape=(10000, ))\n",
    "plot_result_comparison(ae_model, train_gen, reshape=(100, 100))"
   ]
  },
  {
   "cell_type": "code",
   "execution_count": null,
   "metadata": {},
   "outputs": [],
   "source": [
    "del ae_model\n",
    "del train_gen\n",
    "del val_gen"
   ]
  }
 ],
 "metadata": {
  "kernelspec": {
   "display_name": "Python 3",
   "language": "python",
   "name": "python3"
  },
  "language_info": {
   "codemirror_mode": {
    "name": "ipython",
    "version": 3
   },
   "file_extension": ".py",
   "mimetype": "text/x-python",
   "name": "python",
   "nbconvert_exporter": "python",
   "pygments_lexer": "ipython3",
   "version": "3.7.4"
  }
 },
 "nbformat": 4,
 "nbformat_minor": 4
}
