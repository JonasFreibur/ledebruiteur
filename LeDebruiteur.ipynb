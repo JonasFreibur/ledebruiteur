{
 "cells": [
  {
   "cell_type": "markdown",
   "metadata": {},
   "source": [
    "# Le Debruiteur\n",
    "* Jonas Freiburghaus\n",
    "* Romain Capocasale\n",
    "* He-Arc, INF3dlm-a\n",
    "* Image Processing course\n",
    "* 2019-2020"
   ]
  },
  {
   "cell_type": "markdown",
   "metadata": {},
   "source": [
    "# Import"
   ]
  },
  {
   "cell_type": "code",
   "execution_count": 4,
   "metadata": {},
   "outputs": [],
   "source": [
    "from debruiteur.generator.datagenerator import DataGenerator\n",
    "from debruiteur.preprocessing.preprocessor import *\n",
    "from debruiteur.noise.noise import *\n",
    "from debruiteur.utils.utils import plot_im_grid\n",
    "from debruiteur.metrics.metrics import *"
   ]
  },
  {
   "cell_type": "markdown",
   "metadata": {},
   "source": [
    "# Create Dataframe"
   ]
  },
  {
   "cell_type": "code",
   "execution_count": 5,
   "metadata": {},
   "outputs": [
    {
     "data": {
      "application/vnd.jupyter.widget-view+json": {
       "model_id": "693ef5da08eb436abb517f1e06989761",
       "version_major": 2,
       "version_minor": 0
      },
      "text/plain": [
       "HBox(children=(IntProgress(value=1, bar_style='info', max=1), HTML(value='')))"
      ]
     },
     "metadata": {},
     "output_type": "display_data"
    },
    {
     "name": "stdout",
     "output_type": "stream",
     "text": [
      "\n"
     ]
    },
    {
     "data": {
      "application/vnd.jupyter.widget-view+json": {
       "model_id": "117254a208d24bc6b0b3acecd73d9f21",
       "version_major": 2,
       "version_minor": 0
      },
      "text/plain": [
       "HBox(children=(IntProgress(value=1, bar_style='info', max=1), HTML(value='')))"
      ]
     },
     "metadata": {},
     "output_type": "display_data"
    },
    {
     "name": "stdout",
     "output_type": "stream",
     "text": [
      "\n"
     ]
    }
   ],
   "source": [
    "working_dir = os.path.abspath(os.getcwd())\n",
    "\n",
    "df_original = make_original_dataframe(os.path.join(working_dir, 'images'))\n",
    "df_resized = make_resized_dataframe(df_original, os.path.join(working_dir, 'resized_images'))\n",
    "df_noised = make_noised_dataframe(df_resized, os.path.join(working_dir, 'noised_images'))"
   ]
  },
  {
   "cell_type": "code",
   "execution_count": 14,
   "metadata": {},
   "outputs": [
    {
     "name": "stdout",
     "output_type": "stream",
     "text": [
      "MSE : 2166.3947333333335\n",
      "NRMSE : 0.3192505383344675\n",
      "PSNR : 14.773427696637516\n",
      "SSIM : 0.539356612133198\n"
     ]
    }
   ],
   "source": [
    "import cv2\n",
    "from skimage import measure\n",
    "\n",
    "paths = df_noised.iloc[0].values.tolist()\n",
    "orignal_img = cv2.imread(paths[0])\n",
    "noised_img = cv2.imread(paths[1])\n",
    "\n",
    "print(f\"MSE : {measure.compare_mse(orignal_img, noised_img)}\")\n",
    "print(f\"NRMSE : {measure.compare_nrmse(orignal_img, noised_img)}\")\n",
    "print(f\"PSNR : {measure.compare_psnr(orignal_img, noised_img)}\")\n",
    "print(f\"SSIM : {measure.compare_ssim(orignal_img, noised_img, multichannel=True)}\")"
   ]
  },
  {
   "cell_type": "code",
   "execution_count": null,
   "metadata": {},
   "outputs": [],
   "source": []
  }
 ],
 "metadata": {
  "kernelspec": {
   "display_name": "Python 3",
   "language": "python",
   "name": "python3"
  },
  "language_info": {
   "codemirror_mode": {
    "name": "ipython",
    "version": 3
   },
   "file_extension": ".py",
   "mimetype": "text/x-python",
   "name": "python",
   "nbconvert_exporter": "python",
   "pygments_lexer": "ipython3",
   "version": "3.7.4"
  }
 },
 "nbformat": 4,
 "nbformat_minor": 4
}
